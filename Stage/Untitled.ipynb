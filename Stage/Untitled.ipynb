{
 "cells": [
  {
   "cell_type": "code",
   "execution_count": null,
   "id": "e2643992",
   "metadata": {},
   "outputs": [],
   "source": []
  },
  {
   "cell_type": "code",
   "execution_count": 4,
   "id": "2665fcf8",
   "metadata": {},
   "outputs": [
    {
     "name": "stdout",
     "output_type": "stream",
     "text": [
      "az\n"
     ]
    }
   ],
   "source": [
    "import pandas as pd\n",
    "file_path = 'stage.txt'\n",
    "ip_address = []\n",
    "timestamp = []\n",
    "request = []\n",
    "status_code = []\n",
    "user_agent = []\n",
    "with open(file_path, 'r') as file:\n",
    "    for line in file:\n",
    "        parts = line.split()\n",
    "        ip_address.append(parts[0])\n",
    "        timestamp.append(parts[3][1:] + ' ' + parts[4][:-1])\n",
    "        request.append(parts[5] + ' ' + parts[6])\n",
    "        status_code.append(parts[8])\n",
    "        user_agent.append(' '.join(parts[11:]))\n",
    "df = pd.DataFrame({\n",
    "    'IP Address': ip_address,\n",
    "    'Timestamp': timestamp,\n",
    "    'Request': request,\n",
    "    'Status Code': status_code,\n",
    "    'User Agent': user_agent\n",
    "})\n",
    "df.to_csv('log_data.csv', index=False)\n",
    "\n"
   ]
  },
  {
   "cell_type": "code",
   "execution_count": null,
   "id": "acc51043",
   "metadata": {},
   "outputs": [],
   "source": []
  }
 ],
 "metadata": {
  "kernelspec": {
   "display_name": "Python 3 (ipykernel)",
   "language": "python",
   "name": "python3"
  },
  "language_info": {
   "codemirror_mode": {
    "name": "ipython",
    "version": 3
   },
   "file_extension": ".py",
   "mimetype": "text/x-python",
   "name": "python",
   "nbconvert_exporter": "python",
   "pygments_lexer": "ipython3",
   "version": "3.11.3"
  }
 },
 "nbformat": 4,
 "nbformat_minor": 5
}
